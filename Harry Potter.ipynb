{
 "cells": [
  {
   "cell_type": "markdown",
   "metadata": {},
   "source": [
    "# <center> Sentiment analysis of Harry Potter 🪄⚡️ </center>"
   ]
  },
  {
   "cell_type": "code",
   "execution_count": 1,
   "metadata": {},
   "outputs": [],
   "source": [
    "#!pip3 install nltk\n",
    "#!pip3 install textblob\n",
    "\n",
    "\n",
    "#!pip3 install spaCy\n",
    "#!pip3 install gensim\n",
    "#!pip3 install pattern\n",
    "\n",
    "#!pip3 install speechrecognition\n",
    "\n",
    "#!pip3 install https://github.com/explosion/spacy-models/releases/download/en_core_web_sm-2.2.0/en_core_web_sm-2.2.0.tar.gz\n",
    "\n",
    "#!pip3 install speechrecognition\n",
    "#!brew install portaudio\n",
    "#!pip3 install pyaudio"
   ]
  },
  {
   "cell_type": "code",
   "execution_count": 2,
   "metadata": {},
   "outputs": [],
   "source": [
    "from pymongo import MongoClient\n",
    "import pandas as pd"
   ]
  },
  {
   "cell_type": "code",
   "execution_count": 3,
   "metadata": {},
   "outputs": [],
   "source": [
    "import nltk\n",
    "from nltk.sentiment.vader import SentimentIntensityAnalyzer\n",
    "from nltk.tokenize import RegexpTokenizer\n",
    "from nltk.corpus import stopwords\n",
    "from textblob import TextBlob\n",
    "import spacy\n",
    "from spacy import displacy"
   ]
  },
  {
   "cell_type": "code",
   "execution_count": 47,
   "metadata": {},
   "outputs": [],
   "source": [
    "import en_core_web_sm"
   ]
  },
  {
   "cell_type": "code",
   "execution_count": 5,
   "metadata": {},
   "outputs": [],
   "source": [
    "import speech_recognition as sr \n",
    "import pyaudio"
   ]
  },
  {
   "cell_type": "code",
   "execution_count": 6,
   "metadata": {},
   "outputs": [
    {
     "name": "stderr",
     "output_type": "stream",
     "text": [
      "[nltk_data] Downloading package vader_lexicon to\n",
      "[nltk_data]     /Users/fernandocosta/nltk_data...\n",
      "[nltk_data]   Package vader_lexicon is already up-to-date!\n",
      "[nltk_data] Downloading package punkt to\n",
      "[nltk_data]     /Users/fernandocosta/nltk_data...\n",
      "[nltk_data]   Package punkt is already up-to-date!\n",
      "[nltk_data] Downloading package stopwords to\n",
      "[nltk_data]     /Users/fernandocosta/nltk_data...\n",
      "[nltk_data]   Package stopwords is already up-to-date!\n"
     ]
    },
    {
     "data": {
      "text/plain": [
       "True"
      ]
     },
     "execution_count": 6,
     "metadata": {},
     "output_type": "execute_result"
    }
   ],
   "source": [
    "nltk.download('vader_lexicon')\n",
    "nltk.download('punkt')\n",
    "nltk.download('stopwords')"
   ]
  },
  {
   "cell_type": "markdown",
   "metadata": {},
   "source": [
    "## 1. Bringing in the data"
   ]
  },
  {
   "cell_type": "markdown",
   "metadata": {},
   "source": [
    "### 1.1. Connecting to the database"
   ]
  },
  {
   "cell_type": "code",
   "execution_count": 7,
   "metadata": {},
   "outputs": [],
   "source": [
    "client = MongoClient(\"mongodb://localhost/HP\") \n",
    "db = client.get_database()\n",
    "collection = db['frases']"
   ]
  },
  {
   "cell_type": "markdown",
   "metadata": {},
   "source": [
    "### 1.2. Dialogues"
   ]
  },
  {
   "cell_type": "code",
   "execution_count": 8,
   "metadata": {},
   "outputs": [
    {
     "data": {
      "text/plain": [
       "['Albus Dumbledore', 'Argus Filch', 'Bloody Baron']"
      ]
     },
     "execution_count": 8,
     "metadata": {},
     "output_type": "execute_result"
    }
   ],
   "source": [
    "personajes = collection.distinct('character_name')\n",
    "personajes[:3]"
   ]
  },
  {
   "cell_type": "code",
   "execution_count": 9,
   "metadata": {},
   "outputs": [],
   "source": [
    "query_voldemort = {\"character_name\":\"Voldemort\"}\n",
    "voldemort = list(collection.find(query_voldemort, {\"dialogue\": 1,\"_id\": 0}))"
   ]
  },
  {
   "cell_type": "code",
   "execution_count": 10,
   "metadata": {},
   "outputs": [
    {
     "data": {
      "text/plain": [
       "[{'dialogue': 'Use the boy.'},\n",
       " {'dialogue': 'He lies.'},\n",
       " {'dialogue': 'Let me speak to him.'},\n",
       " {'dialogue': 'I have strength enough for this. Harry Potter, we meet again.'},\n",
       " {'dialogue': \"Yes, you see what I've become? See what I must do to survive? Live off another, a mere parasite. Unicorn blood can sustain me, but it cannot give me a body of my own. But there is something that can. Something that, conveniently enough, lies in your pocket. Stop him! Don't be a fool. Why suffer an horrific death, when you can join me, and live.\"},\n",
       " {'dialogue': \"Haha. Bravery. Your parents had it too. Tell me, Harry, would you like to see your mother and father again, together? We can bring them back. All I ask is for something in return. That's it, Harry. There is no good and evil, there is only power, and those too weak to see it. Together, we'll do extraordinary things. Just give me the stone.\"},\n",
       " {'dialogue': 'Fool! Get the stone!'},\n",
       " {'dialogue': 'Kill him!'}]"
      ]
     },
     "execution_count": 10,
     "metadata": {},
     "output_type": "execute_result"
    }
   ],
   "source": [
    "voldemort"
   ]
  },
  {
   "cell_type": "markdown",
   "metadata": {},
   "source": [
    "# 2. Dialogues into a dataframe"
   ]
  },
  {
   "cell_type": "markdown",
   "metadata": {},
   "source": [
    "### 2.1. Through mongo"
   ]
  },
  {
   "cell_type": "code",
   "execution_count": 11,
   "metadata": {
    "scrolled": true
   },
   "outputs": [
    {
     "data": {
      "text/plain": [
       "['Use the boy.',\n",
       " 'He lies.',\n",
       " 'Let me speak to him.',\n",
       " 'I have strength enough for this. Harry Potter, we meet again.',\n",
       " \"Yes, you see what I've become? See what I must do to survive? Live off another, a mere parasite. Unicorn blood can sustain me, but it cannot give me a body of my own. But there is something that can. Something that, conveniently enough, lies in your pocket. Stop him! Don't be a fool. Why suffer an horrific death, when you can join me, and live.\",\n",
       " \"Haha. Bravery. Your parents had it too. Tell me, Harry, would you like to see your mother and father again, together? We can bring them back. All I ask is for something in return. That's it, Harry. There is no good and evil, there is only power, and those too weak to see it. Together, we'll do extraordinary things. Just give me the stone.\",\n",
       " 'Fool! Get the stone!',\n",
       " 'Kill him!']"
      ]
     },
     "execution_count": 11,
     "metadata": {},
     "output_type": "execute_result"
    }
   ],
   "source": [
    "voldemort_frases = [i['dialogue'] for i in voldemort]\n",
    "voldemort_frases"
   ]
  },
  {
   "cell_type": "code",
   "execution_count": 12,
   "metadata": {},
   "outputs": [
    {
     "data": {
      "text/html": [
       "<div>\n",
       "<style scoped>\n",
       "    .dataframe tbody tr th:only-of-type {\n",
       "        vertical-align: middle;\n",
       "    }\n",
       "\n",
       "    .dataframe tbody tr th {\n",
       "        vertical-align: top;\n",
       "    }\n",
       "\n",
       "    .dataframe thead th {\n",
       "        text-align: right;\n",
       "    }\n",
       "</style>\n",
       "<table border=\"1\" class=\"dataframe\">\n",
       "  <thead>\n",
       "    <tr style=\"text-align: right;\">\n",
       "      <th></th>\n",
       "      <th>Voldi</th>\n",
       "    </tr>\n",
       "  </thead>\n",
       "  <tbody>\n",
       "    <tr>\n",
       "      <th>0</th>\n",
       "      <td>Use the boy.</td>\n",
       "    </tr>\n",
       "    <tr>\n",
       "      <th>1</th>\n",
       "      <td>He lies.</td>\n",
       "    </tr>\n",
       "    <tr>\n",
       "      <th>2</th>\n",
       "      <td>Let me speak to him.</td>\n",
       "    </tr>\n",
       "    <tr>\n",
       "      <th>3</th>\n",
       "      <td>I have strength enough for this. Harry Potter,...</td>\n",
       "    </tr>\n",
       "    <tr>\n",
       "      <th>4</th>\n",
       "      <td>Yes, you see what I've become? See what I must...</td>\n",
       "    </tr>\n",
       "  </tbody>\n",
       "</table>\n",
       "</div>"
      ],
      "text/plain": [
       "                                               Voldi\n",
       "0                                       Use the boy.\n",
       "1                                           He lies.\n",
       "2                               Let me speak to him.\n",
       "3  I have strength enough for this. Harry Potter,...\n",
       "4  Yes, you see what I've become? See what I must..."
      ]
     },
     "execution_count": 12,
     "metadata": {},
     "output_type": "execute_result"
    }
   ],
   "source": [
    "harrypotterdf = pd.DataFrame(voldemort_frases, columns=[\"Voldi\"])\n",
    "harrypotterdf.head()"
   ]
  },
  {
   "cell_type": "markdown",
   "metadata": {},
   "source": [
    "#### 2.2. Through pandas"
   ]
  },
  {
   "cell_type": "code",
   "execution_count": 13,
   "metadata": {},
   "outputs": [
    {
     "data": {
      "text/html": [
       "<div>\n",
       "<style scoped>\n",
       "    .dataframe tbody tr th:only-of-type {\n",
       "        vertical-align: middle;\n",
       "    }\n",
       "\n",
       "    .dataframe tbody tr th {\n",
       "        vertical-align: top;\n",
       "    }\n",
       "\n",
       "    .dataframe thead th {\n",
       "        text-align: right;\n",
       "    }\n",
       "</style>\n",
       "<table border=\"1\" class=\"dataframe\">\n",
       "  <thead>\n",
       "    <tr style=\"text-align: right;\">\n",
       "      <th></th>\n",
       "      <th>_id</th>\n",
       "      <th>scene</th>\n",
       "      <th>character_name</th>\n",
       "      <th>dialogue</th>\n",
       "    </tr>\n",
       "  </thead>\n",
       "  <tbody>\n",
       "    <tr>\n",
       "      <th>0</th>\n",
       "      <td>5fbfc91a00dd010fcf9cb2ac</td>\n",
       "      <td>1</td>\n",
       "      <td>Minerva McGonagall</td>\n",
       "      <td>And the boy?</td>\n",
       "    </tr>\n",
       "    <tr>\n",
       "      <th>1</th>\n",
       "      <td>5fbfc91a00dd010fcf9cb2ad</td>\n",
       "      <td>1</td>\n",
       "      <td>Albus Dumbledore</td>\n",
       "      <td>No problems, I trust, Hagrid?</td>\n",
       "    </tr>\n",
       "    <tr>\n",
       "      <th>2</th>\n",
       "      <td>5fbfc91a00dd010fcf9cb2ae</td>\n",
       "      <td>1</td>\n",
       "      <td>Minerva McGonagall</td>\n",
       "      <td>Good evening, Professor Dumbledore. Are the ru...</td>\n",
       "    </tr>\n",
       "    <tr>\n",
       "      <th>3</th>\n",
       "      <td>5fbfc91a00dd010fcf9cb2af</td>\n",
       "      <td>1</td>\n",
       "      <td>Minerva McGonagall</td>\n",
       "      <td>Do you think it wise to trust Hagrid with some...</td>\n",
       "    </tr>\n",
       "    <tr>\n",
       "      <th>4</th>\n",
       "      <td>5fbfc91a00dd010fcf9cb2b0</td>\n",
       "      <td>1</td>\n",
       "      <td>Albus Dumbledore</td>\n",
       "      <td>I'm afraid so, Professor. The good, and the bad.</td>\n",
       "    </tr>\n",
       "  </tbody>\n",
       "</table>\n",
       "</div>"
      ],
      "text/plain": [
       "                        _id  scene      character_name  \\\n",
       "0  5fbfc91a00dd010fcf9cb2ac      1  Minerva McGonagall   \n",
       "1  5fbfc91a00dd010fcf9cb2ad      1    Albus Dumbledore   \n",
       "2  5fbfc91a00dd010fcf9cb2ae      1  Minerva McGonagall   \n",
       "3  5fbfc91a00dd010fcf9cb2af      1  Minerva McGonagall   \n",
       "4  5fbfc91a00dd010fcf9cb2b0      1    Albus Dumbledore   \n",
       "\n",
       "                                            dialogue  \n",
       "0                                       And the boy?  \n",
       "1                      No problems, I trust, Hagrid?  \n",
       "2  Good evening, Professor Dumbledore. Are the ru...  \n",
       "3  Do you think it wise to trust Hagrid with some...  \n",
       "4   I'm afraid so, Professor. The good, and the bad.  "
      ]
     },
     "execution_count": 13,
     "metadata": {},
     "output_type": "execute_result"
    }
   ],
   "source": [
    "todo = pd.DataFrame(list(collection.find()))\n",
    "todo.head()"
   ]
  },
  {
   "cell_type": "code",
   "execution_count": 14,
   "metadata": {},
   "outputs": [
    {
     "data": {
      "text/html": [
       "<div>\n",
       "<style scoped>\n",
       "    .dataframe tbody tr th:only-of-type {\n",
       "        vertical-align: middle;\n",
       "    }\n",
       "\n",
       "    .dataframe tbody tr th {\n",
       "        vertical-align: top;\n",
       "    }\n",
       "\n",
       "    .dataframe thead th {\n",
       "        text-align: right;\n",
       "    }\n",
       "</style>\n",
       "<table border=\"1\" class=\"dataframe\">\n",
       "  <thead>\n",
       "    <tr style=\"text-align: right;\">\n",
       "      <th></th>\n",
       "      <th>character_name</th>\n",
       "      <th>dialogue</th>\n",
       "    </tr>\n",
       "  </thead>\n",
       "  <tbody>\n",
       "    <tr>\n",
       "      <th>0</th>\n",
       "      <td>Minerva McGonagall</td>\n",
       "      <td>And the boy?</td>\n",
       "    </tr>\n",
       "    <tr>\n",
       "      <th>1</th>\n",
       "      <td>Albus Dumbledore</td>\n",
       "      <td>No problems, I trust, Hagrid?</td>\n",
       "    </tr>\n",
       "    <tr>\n",
       "      <th>2</th>\n",
       "      <td>Minerva McGonagall</td>\n",
       "      <td>Good evening, Professor Dumbledore. Are the ru...</td>\n",
       "    </tr>\n",
       "    <tr>\n",
       "      <th>3</th>\n",
       "      <td>Minerva McGonagall</td>\n",
       "      <td>Do you think it wise to trust Hagrid with some...</td>\n",
       "    </tr>\n",
       "    <tr>\n",
       "      <th>4</th>\n",
       "      <td>Albus Dumbledore</td>\n",
       "      <td>I'm afraid so, Professor. The good, and the bad.</td>\n",
       "    </tr>\n",
       "  </tbody>\n",
       "</table>\n",
       "</div>"
      ],
      "text/plain": [
       "       character_name                                           dialogue\n",
       "0  Minerva McGonagall                                       And the boy?\n",
       "1    Albus Dumbledore                      No problems, I trust, Hagrid?\n",
       "2  Minerva McGonagall  Good evening, Professor Dumbledore. Are the ru...\n",
       "3  Minerva McGonagall  Do you think it wise to trust Hagrid with some...\n",
       "4    Albus Dumbledore   I'm afraid so, Professor. The good, and the bad."
      ]
     },
     "execution_count": 14,
     "metadata": {},
     "output_type": "execute_result"
    }
   ],
   "source": [
    "todo = todo[['character_name', 'dialogue']]\n",
    "todo.head()"
   ]
  },
  {
   "cell_type": "code",
   "execution_count": 15,
   "metadata": {},
   "outputs": [
    {
     "data": {
      "text/html": [
       "<div>\n",
       "<style scoped>\n",
       "    .dataframe tbody tr th:only-of-type {\n",
       "        vertical-align: middle;\n",
       "    }\n",
       "\n",
       "    .dataframe tbody tr th {\n",
       "        vertical-align: top;\n",
       "    }\n",
       "\n",
       "    .dataframe thead th {\n",
       "        text-align: right;\n",
       "    }\n",
       "</style>\n",
       "<table border=\"1\" class=\"dataframe\">\n",
       "  <thead>\n",
       "    <tr style=\"text-align: right;\">\n",
       "      <th></th>\n",
       "      <th>character_name</th>\n",
       "      <th>dialogue</th>\n",
       "    </tr>\n",
       "  </thead>\n",
       "  <tbody>\n",
       "    <tr>\n",
       "      <th>0</th>\n",
       "      <td>Minerva McGonagall</td>\n",
       "      <td>And the boy?</td>\n",
       "    </tr>\n",
       "    <tr>\n",
       "      <th>1</th>\n",
       "      <td>Albus Dumbledore</td>\n",
       "      <td>No problems, I trust, Hagrid?</td>\n",
       "    </tr>\n",
       "    <tr>\n",
       "      <th>2</th>\n",
       "      <td>Minerva McGonagall</td>\n",
       "      <td>Good evening, Professor Dumbledore. Are the ru...</td>\n",
       "    </tr>\n",
       "    <tr>\n",
       "      <th>3</th>\n",
       "      <td>Minerva McGonagall</td>\n",
       "      <td>Do you think it wise to trust Hagrid with some...</td>\n",
       "    </tr>\n",
       "    <tr>\n",
       "      <th>4</th>\n",
       "      <td>Albus Dumbledore</td>\n",
       "      <td>I'm afraid so, Professor. The good, and the bad.</td>\n",
       "    </tr>\n",
       "    <tr>\n",
       "      <th>...</th>\n",
       "      <td>...</td>\n",
       "      <td>...</td>\n",
       "    </tr>\n",
       "    <tr>\n",
       "      <th>788</th>\n",
       "      <td>Harry Potter</td>\n",
       "      <td>You liar!</td>\n",
       "    </tr>\n",
       "    <tr>\n",
       "      <th>789</th>\n",
       "      <td>Harry Potter</td>\n",
       "      <td>But Hagrid, we're not allowed to do magic away...</td>\n",
       "    </tr>\n",
       "    <tr>\n",
       "      <th>790</th>\n",
       "      <td>Hermione Granger</td>\n",
       "      <td>Feels strange to be going home, doesn't it?</td>\n",
       "    </tr>\n",
       "    <tr>\n",
       "      <th>791</th>\n",
       "      <td>Albus Dumbledore</td>\n",
       "      <td>Love, Harry, love. Ah. Bertie Bott's Every Fla...</td>\n",
       "    </tr>\n",
       "    <tr>\n",
       "      <th>792</th>\n",
       "      <td>Harry Potter</td>\n",
       "      <td>I'm not going home, not really.</td>\n",
       "    </tr>\n",
       "  </tbody>\n",
       "</table>\n",
       "<p>793 rows × 2 columns</p>\n",
       "</div>"
      ],
      "text/plain": [
       "         character_name                                           dialogue\n",
       "0    Minerva McGonagall                                       And the boy?\n",
       "1      Albus Dumbledore                      No problems, I trust, Hagrid?\n",
       "2    Minerva McGonagall  Good evening, Professor Dumbledore. Are the ru...\n",
       "3    Minerva McGonagall  Do you think it wise to trust Hagrid with some...\n",
       "4      Albus Dumbledore   I'm afraid so, Professor. The good, and the bad.\n",
       "..                  ...                                                ...\n",
       "788        Harry Potter                                          You liar!\n",
       "789        Harry Potter  But Hagrid, we're not allowed to do magic away...\n",
       "790    Hermione Granger        Feels strange to be going home, doesn't it?\n",
       "791    Albus Dumbledore  Love, Harry, love. Ah. Bertie Bott's Every Fla...\n",
       "792        Harry Potter                    I'm not going home, not really.\n",
       "\n",
       "[793 rows x 2 columns]"
      ]
     },
     "execution_count": 15,
     "metadata": {},
     "output_type": "execute_result"
    }
   ],
   "source": [
    "todo.groupby(['character_name'])\n",
    "todo"
   ]
  },
  {
   "cell_type": "markdown",
   "metadata": {},
   "source": [
    "# 3. Sentiment analysis: how bad is the villain?"
   ]
  },
  {
   "cell_type": "markdown",
   "metadata": {},
   "source": [
    "#### 3.1. NLTK"
   ]
  },
  {
   "cell_type": "code",
   "execution_count": 16,
   "metadata": {},
   "outputs": [],
   "source": [
    "sia = SentimentIntensityAnalyzer()"
   ]
  },
  {
   "cell_type": "code",
   "execution_count": 17,
   "metadata": {},
   "outputs": [],
   "source": [
    "sentence = \"this is beautiful\""
   ]
  },
  {
   "cell_type": "code",
   "execution_count": 18,
   "metadata": {},
   "outputs": [],
   "source": [
    "polarity = sia.polarity_scores(sentence)"
   ]
  },
  {
   "cell_type": "code",
   "execution_count": 19,
   "metadata": {},
   "outputs": [
    {
     "data": {
      "text/plain": [
       "{'neg': 0.0, 'neu': 0.339, 'pos': 0.661, 'compound': 0.5994}"
      ]
     },
     "execution_count": 19,
     "metadata": {},
     "output_type": "execute_result"
    }
   ],
   "source": [
    "polarity"
   ]
  },
  {
   "cell_type": "code",
   "execution_count": 20,
   "metadata": {},
   "outputs": [],
   "source": [
    "def sentimentAnalysis(sentence):\n",
    "    sia = SentimentIntensityAnalyzer()\n",
    "    polarity = sia.polarity_scores(sentence)\n",
    "    return polarity"
   ]
  },
  {
   "cell_type": "code",
   "execution_count": 21,
   "metadata": {},
   "outputs": [],
   "source": [
    "def sentimentAnalysis(sentence):\n",
    "    sia = SentimentIntensityAnalyzer()\n",
    "    polarity = sia.polarity_scores(sentence)\n",
    "    pol = polarity['compound']\n",
    "    return pol"
   ]
  },
  {
   "cell_type": "code",
   "execution_count": 22,
   "metadata": {},
   "outputs": [
    {
     "data": {
      "text/html": [
       "<div>\n",
       "<style scoped>\n",
       "    .dataframe tbody tr th:only-of-type {\n",
       "        vertical-align: middle;\n",
       "    }\n",
       "\n",
       "    .dataframe tbody tr th {\n",
       "        vertical-align: top;\n",
       "    }\n",
       "\n",
       "    .dataframe thead th {\n",
       "        text-align: right;\n",
       "    }\n",
       "</style>\n",
       "<table border=\"1\" class=\"dataframe\">\n",
       "  <thead>\n",
       "    <tr style=\"text-align: right;\">\n",
       "      <th></th>\n",
       "      <th>character_name</th>\n",
       "      <th>dialogue</th>\n",
       "      <th>sentiment_compound</th>\n",
       "    </tr>\n",
       "  </thead>\n",
       "  <tbody>\n",
       "    <tr>\n",
       "      <th>0</th>\n",
       "      <td>Minerva McGonagall</td>\n",
       "      <td>And the boy?</td>\n",
       "      <td>0.0000</td>\n",
       "    </tr>\n",
       "    <tr>\n",
       "      <th>1</th>\n",
       "      <td>Albus Dumbledore</td>\n",
       "      <td>No problems, I trust, Hagrid?</td>\n",
       "      <td>-0.1531</td>\n",
       "    </tr>\n",
       "    <tr>\n",
       "      <th>2</th>\n",
       "      <td>Minerva McGonagall</td>\n",
       "      <td>Good evening, Professor Dumbledore. Are the ru...</td>\n",
       "      <td>0.6908</td>\n",
       "    </tr>\n",
       "    <tr>\n",
       "      <th>3</th>\n",
       "      <td>Minerva McGonagall</td>\n",
       "      <td>Do you think it wise to trust Hagrid with some...</td>\n",
       "      <td>0.8020</td>\n",
       "    </tr>\n",
       "    <tr>\n",
       "      <th>4</th>\n",
       "      <td>Albus Dumbledore</td>\n",
       "      <td>I'm afraid so, Professor. The good, and the bad.</td>\n",
       "      <td>-0.0865</td>\n",
       "    </tr>\n",
       "  </tbody>\n",
       "</table>\n",
       "</div>"
      ],
      "text/plain": [
       "       character_name                                           dialogue  \\\n",
       "0  Minerva McGonagall                                       And the boy?   \n",
       "1    Albus Dumbledore                      No problems, I trust, Hagrid?   \n",
       "2  Minerva McGonagall  Good evening, Professor Dumbledore. Are the ru...   \n",
       "3  Minerva McGonagall  Do you think it wise to trust Hagrid with some...   \n",
       "4    Albus Dumbledore   I'm afraid so, Professor. The good, and the bad.   \n",
       "\n",
       "   sentiment_compound  \n",
       "0              0.0000  \n",
       "1             -0.1531  \n",
       "2              0.6908  \n",
       "3              0.8020  \n",
       "4             -0.0865  "
      ]
     },
     "execution_count": 22,
     "metadata": {},
     "output_type": "execute_result"
    }
   ],
   "source": [
    "todo['sentiment_compound'] = todo['dialogue'].apply(sentimentAnalysis)\n",
    "todo.head()"
   ]
  },
  {
   "cell_type": "code",
   "execution_count": 23,
   "metadata": {},
   "outputs": [
    {
     "data": {
      "text/plain": [
       "character_name\n",
       "Albus Dumbledore        0.348971\n",
       "Argus Filch            -0.039550\n",
       "Bloody Baron            0.000000\n",
       "Class                   0.220200\n",
       "Doris Crockford         0.000000\n",
       "Draco Malfoy            0.027092\n",
       "Dudley Dursley         -0.038871\n",
       "Filius Flitwick         0.601500\n",
       "Firenze                -0.151320\n",
       "Fred Weasley            0.030260\n",
       "Garrick Ollivander      0.559967\n",
       "George Weasley         -0.131050\n",
       "Ginny Weasley           0.709600\n",
       "Goblin                  0.169200\n",
       "Griphook                0.185800\n",
       "Guard                   0.504000\n",
       "Harry Potter           -0.003519\n",
       "Hermione Granger        0.022553\n",
       "Lee Jordan              0.102813\n",
       "Man                    -0.658000\n",
       "Marcus Flint            0.000000\n",
       "Minerva McGonagall      0.213074\n",
       "Molly Weasley           0.152780\n",
       "Nearly Headless Nick    0.090580\n",
       "Neville Longbottom     -0.065636\n",
       "Oliver Wood             0.014775\n",
       "Percy Weasley           0.381267\n",
       "Petunia Dursley         0.153223\n",
       "Quirinus Quirrell       0.124412\n",
       "Rolanda Hooch           0.279783\n",
       "Ron Weasley             0.017947\n",
       "Rubeus Hagrid           0.017688\n",
       "Seamus Finnigan        -0.051280\n",
       "Severus Snape           0.350678\n",
       "Snake                   0.440400\n",
       "Sorting Hat             0.430114\n",
       "The Fat Lady            0.000000\n",
       "Tom                     0.210750\n",
       "Trolley lady            0.440400\n",
       "Vernon Dursley         -0.030370\n",
       "Voldemort              -0.234213\n",
       "Name: sentiment_compound, dtype: float64"
      ]
     },
     "execution_count": 23,
     "metadata": {},
     "output_type": "execute_result"
    }
   ],
   "source": [
    "todo.groupby(['character_name'])['sentiment_compound'].mean()"
   ]
  },
  {
   "cell_type": "markdown",
   "metadata": {},
   "source": [
    "#### 3.2. TextBlob"
   ]
  },
  {
   "cell_type": "code",
   "execution_count": 24,
   "metadata": {},
   "outputs": [],
   "source": [
    "text = \"i hate it here\""
   ]
  },
  {
   "cell_type": "code",
   "execution_count": 25,
   "metadata": {},
   "outputs": [
    {
     "data": {
      "text/plain": [
       "Sentiment(polarity=-0.8, subjectivity=0.9)"
      ]
     },
     "execution_count": 25,
     "metadata": {},
     "output_type": "execute_result"
    }
   ],
   "source": [
    "blob = TextBlob(text)\n",
    "blob.sentiment"
   ]
  },
  {
   "cell_type": "code",
   "execution_count": 26,
   "metadata": {},
   "outputs": [],
   "source": [
    "en_blob = TextBlob(u'que tengas buen buen day')\n",
    "en_blob=en_blob.translate(from_lang='es',to='en')"
   ]
  },
  {
   "cell_type": "code",
   "execution_count": 27,
   "metadata": {},
   "outputs": [
    {
     "data": {
      "text/plain": [
       "TextBlob(\"I have lived in the Netherlands for three months\")"
      ]
     },
     "execution_count": 27,
     "metadata": {},
     "output_type": "execute_result"
    }
   ],
   "source": [
    "nl_blob = TextBlob(u'Ik heb in Nederlandse gewoond vor drie maanden')\n",
    "hola = nl_blob.translate(to='en')\n",
    "hola"
   ]
  },
  {
   "cell_type": "code",
   "execution_count": 28,
   "metadata": {},
   "outputs": [],
   "source": [
    "def sentiment(text):\n",
    "    en_blob=TextBlob(u'{}'.format(text))\n",
    "    translated = en_blob.translate(to='en')\n",
    "    return translated.sentiment"
   ]
  },
  {
   "cell_type": "code",
   "execution_count": 29,
   "metadata": {},
   "outputs": [],
   "source": [
    "text = 'Ik heb in Nederlandse gewoond vor drie maanden'"
   ]
  },
  {
   "cell_type": "code",
   "execution_count": 30,
   "metadata": {},
   "outputs": [
    {
     "data": {
      "text/plain": [
       "Sentiment(polarity=0.0, subjectivity=0.0)"
      ]
     },
     "execution_count": 30,
     "metadata": {},
     "output_type": "execute_result"
    }
   ],
   "source": [
    "sentiment(text)"
   ]
  },
  {
   "cell_type": "code",
   "execution_count": 31,
   "metadata": {},
   "outputs": [
    {
     "data": {
      "text/plain": [
       "Sentiment(polarity=0.0, subjectivity=0.0)"
      ]
     },
     "execution_count": 31,
     "metadata": {},
     "output_type": "execute_result"
    }
   ],
   "source": [
    "sentiment(text)"
   ]
  },
  {
   "cell_type": "markdown",
   "metadata": {},
   "source": [
    "## 4. Frequency"
   ]
  },
  {
   "cell_type": "markdown",
   "metadata": {},
   "source": [
    "### 4.1. Tokenization"
   ]
  },
  {
   "cell_type": "code",
   "execution_count": 32,
   "metadata": {},
   "outputs": [
    {
     "data": {
      "text/plain": [
       "\"I'm afraid so, Professor. The good, and the bad.\""
      ]
     },
     "execution_count": 32,
     "metadata": {},
     "output_type": "execute_result"
    }
   ],
   "source": [
    "text = todo.loc[4, 'dialogue']\n",
    "text"
   ]
  },
  {
   "cell_type": "code",
   "execution_count": 54,
   "metadata": {},
   "outputs": [
    {
     "data": {
      "text/plain": [
       "['What',\n",
       " \"'s\",\n",
       " 'the',\n",
       " 'best',\n",
       " 'time',\n",
       " 'of',\n",
       " 'the',\n",
       " 'year',\n",
       " 'to',\n",
       " 'learn',\n",
       " 'Python',\n",
       " '?']"
      ]
     },
     "execution_count": 54,
     "metadata": {},
     "output_type": "execute_result"
    }
   ],
   "source": [
    "text=\"What's the best time of the year to learn Python?\"\n",
    "words = nltk.word_tokenize(text)\n",
    "words"
   ]
  },
  {
   "cell_type": "code",
   "execution_count": 55,
   "metadata": {},
   "outputs": [
    {
     "data": {
      "text/plain": [
       "['What',\n",
       " 's',\n",
       " 'the',\n",
       " 'best',\n",
       " 'time',\n",
       " 'of',\n",
       " 'the',\n",
       " 'year',\n",
       " 'to',\n",
       " 'learn',\n",
       " 'Python']"
      ]
     },
     "execution_count": 55,
     "metadata": {},
     "output_type": "execute_result"
    }
   ],
   "source": [
    "#Removing symbols\n",
    "\n",
    "tokenizer = RegexpTokenizer(r'\\w+')\n",
    "tokens = tokenizer.tokenize(text)\n",
    "tokens"
   ]
  },
  {
   "cell_type": "code",
   "execution_count": 56,
   "metadata": {},
   "outputs": [
    {
     "name": "stdout",
     "output_type": "stream",
     "text": [
      "{'can', 'mustn', 'any', 'from', \"you'll\", 'below', 'shan', \"wouldn't\", \"haven't\", 'should', 'other', 'both', 'hasn', \"it's\", 'we', 'too', 'very', 'mightn', 'needn', 'before', 'about', \"couldn't\", 'your', 'him', 'each', 'down', 'between', \"hasn't\", 'wasn', \"you're\", \"hadn't\", 'own', 'me', 'ma', \"should've\", 'himself', 'to', \"you've\", 'do', 'ours', 'will', 'itself', 'didn', 'there', 'all', \"isn't\", 'was', 'some', 'doing', \"doesn't\", 'with', 'a', 'under', 'they', 'aren', 'after', 'he', 'so', 'hers', 'our', 'isn', 'but', 'yourselves', 'won', 'only', 'same', 'this', 'off', \"won't\", 'hadn', 'most', 'those', 'were', 'during', 'theirs', 'just', \"wasn't\", 'an', \"aren't\", 'd', 'while', \"you'd\", \"don't\", 'in', 'his', 'few', 'such', 'at', 'herself', 'further', 'for', 'being', 'of', 'who', 'by', 'ain', 'up', 'i', 'than', 'have', 'over', 'out', 'its', 'into', 'are', 'nor', 'if', 'm', 'doesn', 'above', 're', \"mustn't\", 've', 'my', 'yours', 'had', 'how', \"weren't\", 'on', 'until', \"didn't\", 'o', 'wouldn', 'again', 'more', 'their', 'myself', 'does', 'don', 'weren', 'where', 'that', \"that'll\", 'her', \"shouldn't\", 'll', 'now', 'she', 'yourself', 'did', 'and', 'not', 'through', 'when', \"needn't\", \"she's\", 'then', 'is', 'whom', 't', 'couldn', 'shouldn', 'ourselves', 'themselves', 'once', 'as', 'no', 'what', 'has', 'or', 'here', 'why', \"shan't\", 'be', 'because', 'am', 'the', 'having', 's', 'them', 'it', 'which', \"mightn't\", 'you', 'been', 'haven', 'y', 'against', 'these'}\n"
     ]
    }
   ],
   "source": [
    "stop_words = set(stopwords.words('english'))\n",
    "print(stop_words)"
   ]
  },
  {
   "cell_type": "code",
   "execution_count": 57,
   "metadata": {},
   "outputs": [
    {
     "data": {
      "text/plain": [
       "['What', 'best', 'time', 'year', 'learn', 'Python']"
      ]
     },
     "execution_count": 57,
     "metadata": {},
     "output_type": "execute_result"
    }
   ],
   "source": [
    "tokens_clean = [e for e in tokens if e not in stop_words]\n",
    "tokens_clean"
   ]
  },
  {
   "cell_type": "code",
   "execution_count": 37,
   "metadata": {},
   "outputs": [
    {
     "data": {
      "text/plain": [
       "[0.0, 0.0, -0.5423, 0.0, 0.6249, 0.0, 0.0]"
      ]
     },
     "execution_count": 37,
     "metadata": {},
     "output_type": "execute_result"
    }
   ],
   "source": [
    "tokens_clean_compound = [sentimentAnalysis(i) for i in tokens_clean]\n",
    "tokens_clean_compound"
   ]
  },
  {
   "cell_type": "code",
   "execution_count": 38,
   "metadata": {},
   "outputs": [
    {
     "data": {
      "text/plain": [
       "[('Last', 0.0),\n",
       " ('weekend', 0.0),\n",
       " ('horrible', -0.5423),\n",
       " ('project', 0.0),\n",
       " ('great', 0.6249),\n",
       " ('weekend', 0.0),\n",
       " ('going', 0.0)]"
      ]
     },
     "execution_count": 38,
     "metadata": {},
     "output_type": "execute_result"
    }
   ],
   "source": [
    "hola = [(i, j) for i, j in zip(tokens_clean, tokens_clean_compound)]\n",
    "hola"
   ]
  },
  {
   "cell_type": "code",
   "execution_count": 39,
   "metadata": {},
   "outputs": [
    {
     "name": "stderr",
     "output_type": "stream",
     "text": [
      "/usr/local/lib/python3.9/site-packages/spacy/util.py:275: UserWarning: [W031] Model 'en_core_web_sm' (2.2.0) requires spaCy v2.2 and is incompatible with the current spaCy version (2.3.3). This may lead to unexpected results or runtime errors. To resolve this, download a newer compatible model or retrain your custom model with the current spaCy version. For more details and available updates, run: python -m spacy validate\n",
      "  warnings.warn(warn_msg)\n"
     ]
    }
   ],
   "source": [
    "\n",
    "nlp = en_core_web_sm.load()"
   ]
  },
  {
   "cell_type": "code",
   "execution_count": 53,
   "metadata": {},
   "outputs": [
    {
     "name": "stdout",
     "output_type": "stream",
     "text": [
      "Autonomous amod cars NOUN []\n",
      "cars nsubj shift VERB [Autonomous]\n",
      "shift ROOT shift VERB [cars, liability, toward]\n",
      "insurance compound liability NOUN []\n",
      "liability dobj shift VERB [insurance]\n",
      "toward prep shift VERB [manufacturers]\n",
      "manufacturers pobj toward ADP []\n"
     ]
    }
   ],
   "source": [
    "nlp = spacy.load(\"en_core_web_sm\")\n",
    "doc = nlp(\"Autonomous cars shift insurance liability toward manufacturers\")\n",
    "for token in doc:\n",
    "    print(token.text, token.dep_, token.head.text, token.head.pos_,\n",
    "            [child for child in token.children])"
   ]
  },
  {
   "cell_type": "code",
   "execution_count": 52,
   "metadata": {},
   "outputs": [
    {
     "data": {
      "text/html": [
       "<span class=\"tex2jax_ignore\"><!DOCTYPE html>\n",
       "<html lang=\"en\">\n",
       "    <head>\n",
       "        <title>displaCy</title>\n",
       "    </head>\n",
       "\n",
       "    <body style=\"font-size: 16px; font-family: -apple-system, BlinkMacSystemFont, 'Segoe UI', Helvetica, Arial, sans-serif, 'Apple Color Emoji', 'Segoe UI Emoji', 'Segoe UI Symbol'; padding: 4rem 2rem; direction: ltr\">\n",
       "<figure style=\"margin-bottom: 6rem\">\n",
       "<div class=\"entities\" style=\"line-height: 2.5; direction: ltr\">When \n",
       "<mark class=\"entity\" style=\"background: #aa9cfc; padding: 0.45em 0.6em; margin: 0 0.25em; line-height: 1; border-radius: 0.35em;\">\n",
       "    Sebastian Thrun\n",
       "    <span style=\"font-size: 0.8em; font-weight: bold; line-height: 1; border-radius: 0.35em; text-transform: uppercase; vertical-align: middle; margin-left: 0.5rem\">PERSON</span>\n",
       "</mark>\n",
       " started working on self-driving cars at \n",
       "<mark class=\"entity\" style=\"background: #7aecec; padding: 0.45em 0.6em; margin: 0 0.25em; line-height: 1; border-radius: 0.35em;\">\n",
       "    Google\n",
       "    <span style=\"font-size: 0.8em; font-weight: bold; line-height: 1; border-radius: 0.35em; text-transform: uppercase; vertical-align: middle; margin-left: 0.5rem\">ORG</span>\n",
       "</mark>\n",
       " in \n",
       "<mark class=\"entity\" style=\"background: #bfe1d9; padding: 0.45em 0.6em; margin: 0 0.25em; line-height: 1; border-radius: 0.35em;\">\n",
       "    2007\n",
       "    <span style=\"font-size: 0.8em; font-weight: bold; line-height: 1; border-radius: 0.35em; text-transform: uppercase; vertical-align: middle; margin-left: 0.5rem\">DATE</span>\n",
       "</mark>\n",
       ", few people outside of the company took him seriously.</div>\n",
       "</figure>\n",
       "</body>\n",
       "</html></span>"
      ],
      "text/plain": [
       "<IPython.core.display.HTML object>"
      ]
     },
     "metadata": {},
     "output_type": "display_data"
    },
    {
     "name": "stdout",
     "output_type": "stream",
     "text": [
      "\n",
      "Using the 'ent' visualizer\n",
      "Serving on http://0.0.0.0:5000 ...\n",
      "\n",
      "Shutting down server on port 5000.\n"
     ]
    }
   ],
   "source": [
    "text = \"When Sebastian Thrun started working on self-driving cars at Google in 2007, few people outside of the company took him seriously.\"\n",
    "\n",
    "nlp = spacy.load(\"en_core_web_sm\")\n",
    "doc = nlp(text)\n",
    "displacy.serve(doc, style=\"ent\")"
   ]
  },
  {
   "cell_type": "code",
   "execution_count": 44,
   "metadata": {},
   "outputs": [],
   "source": [
    "ironhack_data = \"Data prework: Before the course. Dive into the world of data. Once you become an official Ironhack student, you will be given 60 hours of online learning material focusing on command line, Git, Python, MySQL, and statistical analysis. To get you ready for learning , this essential prework will familiarize you with the basics of programming and statistics necessary for the bootcamp. Although you will learn these topics remotely before you arrive at your chosen campus, you won’t be far away from the resources of the Ironhack community. Make use of our Slack channel to connect with your peers and get help from expert academic staff. At the end of your prework, you’ll be ready for the fast pace on campus!\""
   ]
  },
  {
   "cell_type": "markdown",
   "metadata": {},
   "source": [
    "## 4.3. Audio input"
   ]
  },
  {
   "cell_type": "code",
   "execution_count": null,
   "metadata": {},
   "outputs": [],
   "source": [
    "\n",
    "def get_audio():\n",
    "    r = sr.Recognizer()\n",
    "    with sr.Microphone() as source:\n",
    "        audio = r.listen(source)\n",
    "        said = \"\"\n",
    "\n",
    "        try:\n",
    "            said = r.recognize_google(audio)\n",
    "            print(said)\n",
    "        except Exception as e:\n",
    "            print(\"Exception: \" + str(e))\n",
    "    return said\n",
    "get_audio()"
   ]
  }
 ],
 "metadata": {
  "kernelspec": {
   "display_name": "Python 3",
   "language": "python",
   "name": "python3"
  },
  "language_info": {
   "codemirror_mode": {
    "name": "ipython",
    "version": 3
   },
   "file_extension": ".py",
   "mimetype": "text/x-python",
   "name": "python",
   "nbconvert_exporter": "python",
   "pygments_lexer": "ipython3",
   "version": "3.9.0"
  }
 },
 "nbformat": 4,
 "nbformat_minor": 4
}
